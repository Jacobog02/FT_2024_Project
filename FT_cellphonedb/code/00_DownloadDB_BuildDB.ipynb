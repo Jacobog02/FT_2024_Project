{
 "cells": [
  {
   "cell_type": "markdown",
   "metadata": {},
   "source": [
    " ![CellphoneDB Logo](https://www.cellphonedb.org/images/cellphonedb_logo_33.png) | CellphoneDB is a publicly available repository of curated receptors, ligands and their interactions."
   ]
  },
  {
   "cell_type": "markdown",
   "metadata": {},
   "source": [
    "# Download database from source\n",
    "In this notebook we will download CellphoneDB database and the input files required to generate the database. These input files can be modified in case the user desires to remove or add new interactions. Please check the `T00_BuildDBfromFiles.ipynb` notebook to generate a database from input files."
   ]
  },
  {
   "cell_type": "markdown",
   "metadata": {},
   "source": [
    "### Install CellphoneDB\n",
    "It's recommended to install CellphoneDB within a conda environment"
   ]
  },
  {
   "cell_type": "markdown",
   "metadata": {},
   "source": [
    "> pip install cellphonedb"
   ]
  },
  {
   "cell_type": "markdown",
   "metadata": {},
   "source": [
    "### Display database versions"
   ]
  },
  {
   "cell_type": "code",
   "execution_count": 5,
   "metadata": {},
   "outputs": [
    {
     "data": {
      "text/html": [
       "<table class=\"striped\"><tr><th style=\"text-align:center\">Version</th><th style=\"text-align:center\">Release date</th></tr><td style=\"text-align:center\"><a class=\"teal-text\" href=\"https://github.com/ventolab/cellphonedb-data/releases/tag/v5.0.0\">v5.0.0</a></td><td style=\"text-align:center\">2023-10-31</td></tr><tr><td style=\"text-align:center\"><a class=\"teal-text\" href=\"https://github.com/ventolab/cellphonedb-data/releases/tag/v4.1.0\">v4.1.0</a></td><td style=\"text-align:center\">2023-03-09</td></tr><tr><tr><tr></table>"
      ],
      "text/plain": [
       "<IPython.core.display.HTML object>"
      ]
     },
     "metadata": {},
     "output_type": "display_data"
    }
   ],
   "source": [
    "from IPython.display import HTML, display\n",
    "from cellphonedb.utils import db_releases_utils\n",
    "\n",
    "display(HTML(db_releases_utils.get_remote_database_versions_html()['db_releases_html_table']))"
   ]
  },
  {
   "cell_type": "markdown",
   "metadata": {},
   "source": [
    "### Define the version and the path to download database"
   ]
  },
  {
   "cell_type": "code",
   "execution_count": 6,
   "metadata": {},
   "outputs": [],
   "source": [
    "# -- Version of the databse\n",
    "cpdb_version = 'v5.0.0'\n",
    "\n",
    "# -- Path where the input files to generate the database are located\n",
    "#cpdb_target_dir = os.path.join('/home/jovyan/cpdb_tutorial/db/test', cpdb_version)\n",
    "cpdb_target_dir = os.path.join('/home/jacobog/brooke_ft/FT_CITE/cellphonedb_db', cpdb_version)"
   ]
  },
  {
   "cell_type": "markdown",
   "metadata": {},
   "source": [
    "### Download database"
   ]
  },
  {
   "cell_type": "code",
   "execution_count": 7,
   "metadata": {},
   "outputs": [
    {
     "name": "stdout",
     "output_type": "stream",
     "text": [
      "Downloaded cellphonedb.zip into /home/jacobog/brooke_ft/FT_CITE/cellphonedb_db/v5.0.0\n",
      "Downloaded complex_input.csv into /home/jacobog/brooke_ft/FT_CITE/cellphonedb_db/v5.0.0\n",
      "Downloaded gene_input.csv into /home/jacobog/brooke_ft/FT_CITE/cellphonedb_db/v5.0.0\n",
      "Downloaded interaction_input.csv into /home/jacobog/brooke_ft/FT_CITE/cellphonedb_db/v5.0.0\n",
      "Downloaded protein_input.csv into /home/jacobog/brooke_ft/FT_CITE/cellphonedb_db/v5.0.0\n",
      "Downloaded uniprot_synonyms.tsv into /home/jacobog/brooke_ft/FT_CITE/cellphonedb_db/v5.0.0/sources\n",
      "Downloaded transcription_factor_input.csv into /home/jacobog/brooke_ft/FT_CITE/cellphonedb_db/v5.0.0/sources\n"
     ]
    }
   ],
   "source": [
    "from cellphonedb.utils import db_utils\n",
    "\n",
    "db_utils.download_database(cpdb_target_dir, cpdb_version)"
   ]
  },
  {
   "cell_type": "markdown",
   "metadata": {},
   "source": [
    "# Build database from files\n",
    "\n",
    "In this notebook we will create the CellphoneDB database from the input files. This is of interest for those users that wish to add/modify interactions to the CellphoneDB repository.\n",
    "Steps required:\n",
    "\n",
    "        Download CellphoneDB source database (described in the notebook T0_DownloadDB.ipynb). \\\n",
    "        User can modify input files to add new interactions. \\\n",
    "        Build database as shown in this notebook.\n",
    "CellphoneDB will check the integrity of each input file to asses that all partners in the interaction file are present in the proteins/complexes files. If not, a warning will be printed and the user will need to correct this for the database to be consistent. The inputs to generate the database are required to be present within the same folder in the following format:\n",
    "\n",
    "    * interaction_input.csv\n",
    "    * gene_input.csv\n",
    "    * complex_input.csv\n",
    "    * protein_input.csv\n",
    "    * transcription_factor_input.csv\n",
    "    * /sources/uniprot_synonyms.tsv\n",
    "\n",
    "Important, these files must be named as shown above.\n"
   ]
  },
  {
   "cell_type": "code",
   "execution_count": 8,
   "metadata": {},
   "outputs": [],
   "source": [
    "import pandas as pd\n",
    "import glob\n",
    "import os"
   ]
  },
  {
   "cell_type": "code",
   "execution_count": 10,
   "metadata": {},
   "outputs": [
    {
     "data": {
      "text/plain": [
       "['protein_input.csv',\n",
       " 'interaction_input.csv',\n",
       " 'complex_input.csv',\n",
       " 'gene_input.csv',\n",
       " 'cellphonedb.zip',\n",
       " 'sources']"
      ]
     },
     "execution_count": 10,
     "metadata": {},
     "output_type": "execute_result"
    }
   ],
   "source": [
    "# -- Path where the input files to generate the database are located\n",
    "cpdb_input_dir = '/home/jacobog/brooke_ft/FT_CITE/cellphonedb_db/v5.0.0'\n",
    "os.listdir(cpdb_input_dir)\n",
    "\n"
   ]
  },
  {
   "cell_type": "code",
   "execution_count": 11,
   "metadata": {},
   "outputs": [
    {
     "name": "stdout",
     "output_type": "stream",
     "text": [
      "\n",
      "Created /home/jacobog/brooke_ft/FT_CITE/cellphonedb_db/v5.0.0/cellphonedb_03_05_2024_151828.zip successfully\n"
     ]
    }
   ],
   "source": [
    "\n",
    "\n",
    "from cellphonedb.utils import db_utils\n",
    "\n",
    "# -- Creates new database\n",
    "db_utils.create_db(cpdb_input_dir)\n",
    "\n"
   ]
  },
  {
   "cell_type": "code",
   "execution_count": 12,
   "metadata": {},
   "outputs": [],
   "source": [
    "%%bash\n",
    "\n",
    "#mv /home/jovyan/cpdb_tutorial/db/v5/cellphonedb_08_29_2023_142417.zip /home/jovyan/cpdb_tutorial/db/v5/cellphonedb.zip\n",
    "mv /home/jacobog/brooke_ft/FT_CITE/cellphonedb_db/v5.0.0/cellphonedb_03_05_2024_151828.zip /home/jacobog/brooke_ft/FT_CITE/cellphonedb_db/v5.0.0/cellphonedb.zip\n",
    "\n"
   ]
  }
 ],
 "metadata": {
  "kernelspec": {
   "display_name": "cpdb",
   "language": "python",
   "name": "cpdb"
  },
  "language_info": {
   "codemirror_mode": {
    "name": "ipython",
    "version": 3
   },
   "file_extension": ".py",
   "mimetype": "text/x-python",
   "name": "python",
   "nbconvert_exporter": "python",
   "pygments_lexer": "ipython3",
   "version": "3.8.18"
  }
 },
 "nbformat": 4,
 "nbformat_minor": 4
}
